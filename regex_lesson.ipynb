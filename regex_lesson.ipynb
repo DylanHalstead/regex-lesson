{
 "cells": [
  {
   "cell_type": "markdown",
   "metadata": {},
   "source": [
    "# What is a Regular Expression (Regex)?\n",
    "A regular expression, commonly known as regex, is a powerful tool used in programming to describe patterns of text that can be searched for, matched, and manipulated within strings. It provides a concise and flexible means to perform complex string matching and manipulation tasks, allowing developers to efficiently handle tasks such as validation, extraction, and substitution of text data."
   ]
  },
  {
   "cell_type": "code",
   "execution_count": 1,
   "metadata": {},
   "outputs": [],
   "source": [
    "# Python regex library\n",
    "import re"
   ]
  },
  {
   "cell_type": "code",
   "execution_count": 2,
   "metadata": {},
   "outputs": [
    {
     "name": "stdout",
     "output_type": "stream",
     "text": [
      "Found: fox\n"
     ]
    }
   ],
   "source": [
    "# Searches for \"fox\"\n",
    "text = \"The quick brown fox jumps over the lazy dog.\"\n",
    "# Using raw string because it tells Python to treat backslashes (\\) as literal characters rather than escape characters\n",
    "pattern = r'fox'\n",
    "match = re.search(pattern, text)\n",
    "if match:\n",
    "    print(\"Found:\", match.group())\n",
    "else:\n",
    "    print(\"Pattern not found.\")"
   ]
  },
  {
   "cell_type": "code",
   "execution_count": 3,
   "metadata": {},
   "outputs": [
    {
     "name": "stdout",
     "output_type": "stream",
     "text": [
      "Pattern not found at the beginning.\n",
      "Found at the beginning: fox\n"
     ]
    }
   ],
   "source": [
    "# Checks if \"fox\" is at the beginning of the string\n",
    "pattern = r'fox'\n",
    "match = re.match(pattern, text)\n",
    "if match:\n",
    "    print(\"Found at the beginning:\", match.group())\n",
    "else:\n",
    "    print(\"Pattern not found at the beginning.\")\n",
    "\n",
    "text = \"fox is with the lazy dog.\"\n",
    "match = re.match(pattern, text)\n",
    "if match:\n",
    "    print(\"Found at the beginning:\", match.group())\n",
    "else:\n",
    "    print(\"Pattern not found at the beginning.\")"
   ]
  },
  {
   "cell_type": "code",
   "execution_count": 4,
   "metadata": {},
   "outputs": [
    {
     "name": "stdout",
     "output_type": "stream",
     "text": [
      "Words with 3 characters: ['The', 'fox', 'the', 'dog']\n"
     ]
    }
   ],
   "source": [
    "text = \"The quick brown fox jumps over the lazy dog.\"\n",
    "# Finds all words with 3 characters\n",
    "pattern = r'\\b\\w{3}\\b'\n",
    "matches = re.findall(pattern, text)\n",
    "print(\"Words with 3 characters:\", matches)"
   ]
  },
  {
   "cell_type": "code",
   "execution_count": 5,
   "metadata": {},
   "outputs": [
    {
     "name": "stdout",
     "output_type": "stream",
     "text": [
      "New text: XXX quick brown XXX jumps over XXX lazy XXX.\n"
     ]
    }
   ],
   "source": [
    "# Replaces words with 3 characters with \"XXX\"\n",
    "pattern = r'\\b\\w{3}\\b'\n",
    "replacement = \"XXX\"\n",
    "new_text = re.sub(pattern, replacement, text)\n",
    "print(\"New text:\", new_text)"
   ]
  },
  {
   "cell_type": "markdown",
   "metadata": {},
   "source": [
    "# Practical Applications of Regular Expressions\n",
    "Regular expressions find wide application in various fields such as text processing, data validation, and pattern matching. From extracting data from unstructured text to validating user inputs, regular expressions provide a versatile and efficient solution for handling complex string manipulation tasks in programming and data analysis.\n",
    "Some Examples Are:\n",
    "- Data Cleaning\n",
    "- Data Extraction\n",
    "- Data Validation\n",
    "- Text Mining and Natural Language Processing\n",
    "- Log Analysis\n",
    "- Data Transformation"
   ]
  },
  {
   "cell_type": "code",
   "execution_count": 6,
   "metadata": {},
   "outputs": [
    {
     "name": "stdout",
     "output_type": "stream",
     "text": [
      "Remove extra spaces and tabs.\n"
     ]
    }
   ],
   "source": [
    "# Whitespace Removal:\n",
    "text = \"   Remove    extra   spaces \\n and\\ttabs.\"\n",
    "cleaned_text = re.sub(r'\\s+', ' ', text)\n",
    "print(cleaned_text.strip())"
   ]
  },
  {
   "cell_type": "markdown",
   "metadata": {},
   "source": [
    "Pattern: `r'\\s+'`\n",
    "- \\s: Matches any whitespace character, including spaces, tabs, and newline characters.\n",
    "- +: Matches one or more occurrences of the preceding whitespace character."
   ]
  },
  {
   "cell_type": "code",
   "execution_count": 7,
   "metadata": {},
   "outputs": [
    {
     "name": "stdout",
     "output_type": "stream",
     "text": [
      "True\n",
      "False\n"
     ]
    }
   ],
   "source": [
    "# Email Validation\n",
    "def is_valid_email(email):\n",
    "    pattern = r'^[\\w\\.-]+@[a-zA-Z\\d\\.-]+\\.[a-zA-Z]{2,}$'\n",
    "    return re.match(pattern, email) is not None\n",
    "\n",
    "email = \"example@email.com\"\n",
    "print(is_valid_email(email))\n",
    "email = \"example.email.com\"\n",
    "print(is_valid_email(email))"
   ]
  },
  {
   "cell_type": "markdown",
   "metadata": {},
   "source": [
    "Email pattern: `r'^[\\w\\.-]+@[a-zA-Z\\d\\.-]+\\.[a-zA-Z]{2,}$'`\n",
    "- `^`: Asserts the start of the string.\n",
    "- `[\\w\\.-]+`: Matches one or more occurrences of any word character (\\w), dot (.), or hyphen (-).\n",
    "- `@`: Matches the literal \"@\" symbol.\n",
    "- `[a-zA-Z\\d\\.-]+`: Matches one or more occurrences of any letter (uppercase or lowercase), digit, dot (.), or hyphen (-) after the \"@\" symbol.\n",
    "- `\\.`: Matches a literal dot (.).\n",
    "- `[a-zA-Z]{2,}`: Matches two or more occurrences of any letter (uppercase or lowercase) after the dot, indicating the top-level domain.\n",
    "- `$`: Asserts the end of the string."
   ]
  },
  {
   "cell_type": "code",
   "execution_count": 8,
   "metadata": {},
   "outputs": [
    {
     "name": "stdout",
     "output_type": "stream",
     "text": [
      "['https://www.example.com', 'https://example.com/about']\n"
     ]
    }
   ],
   "source": [
    "# URL Extraction\n",
    "text = \"Visit our website at https://www.example.com for more information. Visit https://example.com/about for more details.\"\n",
    "urls = re.findall(r'https?://(?:[-\\w./]|(?:%[\\da-fA-F]{2}))+', text)\n",
    "print(urls)"
   ]
  },
  {
   "cell_type": "markdown",
   "metadata": {},
   "source": [
    "URL Pattern: `https?://(?:[-\\w./]|(?:%[\\da-fA-F]{2}))+`\n",
    "- `https?://`: Matches the literal characters \"http://\" or \"https://\", where the s is optional due to the ? quantifier.\n",
    "- `(?:...)`: Non-capturing group, used for grouping without capturing the matched text.\n",
    "- `[-\\w./]`: Matches any word character (letter, digit, or underscore), hyphen, period, or forward slash.\n",
    "- `|`: Alternation, matches either the pattern on the left or the pattern on the right.\n",
    "- `(?:%[\\da-fA-F]{2}`): Non-capturing group that matches a percent sign % followed by two hexadecimal digits ([\\da-fA-F] matches any hexadecimal digit: 0-9, a-f, A-F).\n",
    "- `+`: Quantifier, matches one or more occurrences of the preceding group or character."
   ]
  },
  {
   "cell_type": "markdown",
   "metadata": {},
   "source": [
    "# Regex in McDonald's Reviews\n",
    "Looking at a `csv` of complaints sent to McDonald's, let's use regex to find some insights about the complaints."
   ]
  },
  {
   "cell_type": "code",
   "execution_count": 9,
   "metadata": {},
   "outputs": [],
   "source": [
    "import pandas as pd\n",
    "import re\n",
    "\n",
    "# Load the CSV file into a pandas DataFrame\n",
    "df = pd.read_csv('./McDonalds-Yelp-Sentiment-DFE.csv', encoding='latin1')"
   ]
  },
  {
   "cell_type": "code",
   "execution_count": 10,
   "metadata": {},
   "outputs": [],
   "source": [
    "# Define an array of negative connotations for regex use\n",
    "negative_connotations = ['unhealthy', 'dirty', 'unsanitary', 'rude', 'slow', 'poor', 'bad', 'gross', 'disgusting', 'nasty', 'vile', 'unpleasant', 'unappetizing', 'unfriendly', 'unprofessional', 'unwelcoming', 'unhelpful', 'unaccommodating', 'uncooperative', 'unresponsive', 'unreasonable', 'unfair']\n",
    "\n",
    "# Create a dictionary to store counts of negative connotations and the most common negative connotation for each city\n",
    "city_complaint_counts = {}\n",
    "city_highest_complaint = {}\n",
    "\n",
    "# Define a regex pattern for negative connotations with word boundaries\n",
    "pattern = re.compile(r'\\b(?:' + '|'.join(negative_connotations) + r')\\b', flags=re.IGNORECASE)\n",
    "\n",
    "# Iterate over each row in the DataFrame\n",
    "for index, row in df.iterrows():\n",
    "    city = row['city']\n",
    "    review = row['review']\n",
    "    \n",
    "    # Initialize counts for each city if not already present\n",
    "    if city not in city_complaint_counts:\n",
    "        city_complaint_counts[city] = {connotation: 0 for connotation in negative_connotations}\n",
    "    \n",
    "    # Find negative connotations in the complaint using regex pattern\n",
    "    matches = re.findall(pattern, review)\n",
    "    for connotation in matches:\n",
    "        connotation = connotation.lower();\n",
    "        city_complaint_counts[city][connotation] += 1\n",
    "\n",
    "        # Update the biggest negative connotation for the city\n",
    "        if city not in city_highest_complaint or connotation > city_highest_complaint[city]:\n",
    "            city_highest_complaint[city] = connotation"
   ]
  },
  {
   "cell_type": "code",
   "execution_count": 11,
   "metadata": {},
   "outputs": [
    {
     "name": "stdout",
     "output_type": "stream",
     "text": [
      "The city with the most negative connotations is: Las Vegas\n"
     ]
    }
   ],
   "source": [
    "# Find the city with the most negative connotations\n",
    "most_negative_city = max(city_complaint_counts, key=lambda k: sum(city_complaint_counts[k].values()))\n",
    "print(f\"The city with the most negative connotations is: {most_negative_city}\")"
   ]
  },
  {
   "cell_type": "code",
   "execution_count": 12,
   "metadata": {},
   "outputs": [
    {
     "name": "stdout",
     "output_type": "stream",
     "text": [
      "The biggest negative connotation for Atlanta is: slow (26 occurrences)\n",
      "The biggest negative connotation for Las Vegas is: bad (53 occurrences)\n",
      "The biggest negative connotation for Dallas is: bad (8 occurrences)\n",
      "The biggest negative connotation for Portland is: rude (12 occurrences)\n",
      "The biggest negative connotation for Chicago is: bad (32 occurrences)\n",
      "The biggest negative connotation for Cleveland is: slow (10 occurrences)\n",
      "The biggest negative connotation for Houston is: slow (14 occurrences)\n",
      "The biggest negative connotation for Los Angeles is: bad (23 occurrences)\n",
      "The biggest negative connotation for New York is: bad (25 occurrences)\n",
      "The biggest negative connotation for nan is: bad (10 occurrences)\n"
     ]
    }
   ],
   "source": [
    "# Print each cities biggest negative connotation\n",
    "for city in city_complaint_counts.keys():\n",
    "    key_with_highest_value = max(city_complaint_counts[city], key=lambda k: city_complaint_counts[city][k])\n",
    "    print(f\"The biggest negative connotation for {city} is: {key_with_highest_value} ({city_complaint_counts[city][key_with_highest_value]} occurrences)\")"
   ]
  },
  {
   "cell_type": "code",
   "execution_count": 13,
   "metadata": {},
   "outputs": [
    {
     "name": "stdout",
     "output_type": "stream",
     "text": [
      "Review Found:\n",
      "I've only been to this McDonald's twice and both times were bad experiences. Not only does the place smell of dirty rags and cleaner solutions, but the service is bad as well. I guess the convenient location is what keeps this place open but for me, I'll never come back.\n",
      "\n",
      "Review Found:\n",
      "We always see this place as we go into Super Walmart to shop and its always busy. So we decided to try them out after we shopped.Bad!! The floors were dirty, the customer service was nothing to talk about and the fries tasted like they had been sitting under the heat lamp for a long while.FYI just because they are always busy doesn't mean they are good. McDonalds of all places!!!!\n",
      "\n",
      "Review Found:\n",
      "This has to be the worst McDonald's location I have ever been to. Î¾ It is too bad since it is only a couple of miles away from the corporate headquarters you would think they would be out to impress. We walked in with nobody in front of us and waited for someone to even come to the front counter. Î¾ I always expect to have someone front and center at the counter when I walk in. Î¾Keep in mind that this was 6:30 on a Friday one would think that it would be busy for dinner. Î¾I should have picked up on the fact that nobody was even there and left. Î¾ The order was simple the bacon cheeseburger meal and a nugget kids meal. Î¾ It took forever to fulfill the order. Î¾ They have everyone running around for the drive-thru and the 3 cars in line, but nobody helping the front staff. Î¾Meanwhile the manager is per-occupied with filling the refrigerator with apple slices rather than managing the store/staff. Î¾We finally sit down and every table in the place was dirty. Î¾I had to grab some napkins and wet them down to clean off the table we sat at. Î¾ Needless to say my daughter is a slow eater so we were there for at least a 1/2 hour and never saw anyone come and clean tables. The food was horrible and not by McDonald's standards, but by human consumption standards. Î¾ The nuggets were cold the second we opened the bag. Î¾ The burger was cold and the bun was stale. Î¾ The french fries were cold and looked like they were sitting around for awhile. Î¾There was so much salt on the fries that I actually had to throw them away. Î¾ I love McDonald's french fries, but not when made here. I should have learned my lesson the first time I went to this place and the nuggets were cold last time. I miss the days when you went into a McDonald's and heard the sizzle of the grill, and the french fry frier beeping that it was done. Î¾Alas, steer clear of the Yorktown McDonald's it is nowhere near up to par as far as McDonald's standards should be.\n",
      "\n",
      "Review Found:\n",
      "This particular McDonald's was extremely busy- it was about 8-9pm at night & it was super busy, wth? I waited inline for at least 10minutes before I reached the cashier. The service was okay, the staff were on their phone & talking amongst each other, there was no one out on the floor cleaning the tables or the floor and the floor had a massive spill of soda everwhere! The soda area was disgusting, there was no ice in the filler, and worst or all, the Children's Play area stunk real bad & there was a homeless guy in there just lounging, I felt scared for the children's safey!!! my gosh, he could have been a child predator for all i knew. The bathroom in this McD had 3 stalls one of which was available and the other two had locks on them which meant you needed a key- REAL GHETTO! Never again would I come to this McD. My fries were old & nasty too.this mCdonald was lucky they got my money cause I was yelping looking for the nearest MCD and it seemed like all the MCD weres packed around this area, finally this one seemed like it wasnt all that busy but it was and just plain....dirty...\n",
      "\n"
     ]
    }
   ],
   "source": [
    "# Define a regex pattern for \"bad\" followed by \"dirty\" with positive lookahead\n",
    "bad_dirty_pattern = re.compile(r'\\bbad\\b(?=.*\\bdirty\\b)', flags=re.IGNORECASE)\n",
    "\n",
    "# Iterate over each row in the DataFrame\n",
    "for index, row in df.iterrows():\n",
    "    review = row['review']\n",
    "    \n",
    "    # Search for the pattern in the review\n",
    "    match = re.search(bad_dirty_pattern, review)\n",
    "    \n",
    "    # If the pattern is found, print the review\n",
    "    if match:\n",
    "        print(f\"Review Found:\\n{review}\\n\")"
   ]
  },
  {
   "cell_type": "markdown",
   "metadata": {},
   "source": [
    "# Building Your Own Regular Expressions\n",
    "As you've seen, the regex syntax can be a bit confusing and daunting. Luckily, there are multiple tools available to help you build and test your regular expressions. I like to use [Regex101](https://regex101.com/) to build and test my regular expressions. *AI models are very useful and are making pretty good regex options, but you need to validate what it gives you actually works.*"
   ]
  }
 ],
 "metadata": {
  "kernelspec": {
   "display_name": "venv",
   "language": "python",
   "name": "python3"
  },
  "language_info": {
   "codemirror_mode": {
    "name": "ipython",
    "version": 3
   },
   "file_extension": ".py",
   "mimetype": "text/x-python",
   "name": "python",
   "nbconvert_exporter": "python",
   "pygments_lexer": "ipython3",
   "version": "3.11.7"
  }
 },
 "nbformat": 4,
 "nbformat_minor": 2
}
